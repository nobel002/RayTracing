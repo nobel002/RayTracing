{
 "metadata": {
  "language_info": {
   "codemirror_mode": {
    "name": "ipython",
    "version": 3
   },
   "file_extension": ".py",
   "mimetype": "text/x-python",
   "name": "python",
   "nbconvert_exporter": "python",
   "pygments_lexer": "ipython3",
   "version": "3.9.1-final"
  },
  "orig_nbformat": 2,
  "kernelspec": {
   "name": "python3",
   "display_name": "Python 3.9.1 64-bit",
   "metadata": {
    "interpreter": {
     "hash": "696cc6f5483bf8759cdd283e5f12575862a032f262cac041d62bc74ad32ac871"
    }
   }
  }
 },
 "nbformat": 4,
 "nbformat_minor": 2,
 "cells": [
  {
   "source": [
    "# RayTracing NoteBook\n",
    "this is this projects note book to test lil' snippets of code\n"
   ],
   "cell_type": "markdown",
   "metadata": {}
  },
  {
   "source": [
    "ive got a fov which can be tought of as a range, and i want that it's center aligns with the direction of the heading vector."
   ],
   "cell_type": "markdown",
   "metadata": {}
  },
  {
   "source": [
    "array = 50\n",
    "for i in range(array):\n",
    "    print(array/2 - i)\n"
   ],
   "cell_type": "code",
   "metadata": {},
   "execution_count": null,
   "outputs": []
  }
 ]
}